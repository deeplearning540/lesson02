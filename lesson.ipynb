{
 "cells": [
  {
   "cell_type": "markdown",
   "metadata": {
    "collapsed": false
   },
   "source": [
    "# Enter Clustering\n",
    "\n",
    "Machine Learning is divided into three main categories:\n",
    "\n",
    "## Supervised Learning\n",
    "\n",
    "- all data used is labelled (with ground truth information)\n",
    "- the algorithm is provided direct feedback\n",
    "- the algorithm is meant to predict outcome\n"
   ]
  },
  {
   "cell_type": "markdown",
   "metadata": {
    "collapsed": false
   },
   "source": [
    "### Classification\n",
    "\n",
    "<p><a href=\"https://commons.wikimedia.org/wiki/File:Svm_separating_hyperplanes.png#/media/File:Svm_separating_hyperplanes.png\"><img src=\"https://upload.wikimedia.org/wikipedia/commons/2/20/Svm_separating_hyperplanes.png\" alt=\"Svm separating hyperplanes.png\" width=\"503\" height=\"480\"></a><br>By <a href=\"//commons.wikimedia.org/w/index.php?title=User:Cyc&amp;amp;action=edit&amp;amp;redlink=1\" class=\"new\" title=\"User:Cyc (page does not exist)\">Cyc</a> - <span class=\"int-own-work\" lang=\"en\">Own work</span>, Public Domain, <a href=\"https://commons.wikimedia.org/w/index.php?curid=3566969\">Link</a></p>\n",
    "\n"
   ]
  },
  {
   "cell_type": "markdown",
   "metadata": {
    "collapsed": false
   },
   "source": [
    "### Regression\n",
    "\n",
    "<p><a href=\"https://commons.wikimedia.org/wiki/File:Linear_regression.svg#/media/File:Linear_regression.svg\"><img src=\"https://upload.wikimedia.org/wikipedia/commons/thumb/3/3a/Linear_regression.svg/640px-Linear_regression.svg.png\" alt=\"Linear regression.svg\"></a><br>By <a href=\"//commons.wikimedia.org/w/index.php?title=User:Sewaqu&amp;amp;action=edit&amp;amp;redlink=1\" class=\"new\" title=\"User:Sewaqu (page does not exist)\">Sewaqu</a> - <span class=\"int-own-work\" lang=\"en\">Own work</span>, Public Domain, <a href=\"https://commons.wikimedia.org/w/index.php?curid=11967659\">Link</a></p>\n",
    "\n"
   ]
  },
  {
   "cell_type": "markdown",
   "metadata": {
    "collapsed": false
   },
   "source": [
    "## Unsupervised Learning\n",
    "\n",
    "- there are **NO** labels (with ground truth information)\n",
    "- no feedback is provided to the algorithm\n",
    "- goal: find hidden structure in data\n",
    "\n",
    "<p><a href=\"https://commons.wikimedia.org/wiki/File:KMeans-Gaussian-data.svg#/media/File:KMeans-Gaussian-data.svg\"><img src=\"https://upload.wikimedia.org/wikipedia/commons/thumb/e/e5/KMeans-Gaussian-data.svg/1200px-KMeans-Gaussian-data.svg.png\" alt=\"KMeans-Gaussian-data.svg\"></a><br>By <a href=\"//commons.wikimedia.org/wiki/User:Chire\" title=\"User:Chire\">Chire</a> - <span class=\"int-own-work\" lang=\"en\">Own work</span>, <a href=\"https://creativecommons.org/licenses/by-sa/3.0\" title=\"Creative Commons Attribution-Share Alike 3.0\">CC BY-SA 3.0</a>, <a href=\"https://commons.wikimedia.org/w/index.php?curid=17085714\">Link</a></p>"
   ]
  },
  {
   "cell_type": "markdown",
   "metadata": {
    "collapsed": false
   },
   "source": [
    "## Reinforcement Learning\n",
    "\n",
    "- model a decision process\n",
    "- reward system\n",
    "- learn series of actions"
   ]
  },
  {
   "cell_type": "markdown",
   "metadata": {
    "collapsed": false
   },
   "source": [
    "# Important Notation \n",
    "\n",
    "- we are given a dataset of size $n$ as   \n",
    "$\\mathcal{D} = \\{ \\langle \\vec{x}, y \\rangle_{i}, i = 1, \\dots, n \\} $\n",
    "\n",
    "- the data represents a mapping:   \n",
    "$f(\\vec{x}) = y$\n",
    "\n",
    "- machine learning produces a hypothesis:   \n",
    "$h(\\vec{x}) = \\hat{y}$\n",
    "\n",
    "## classification versus regression\n",
    "\n",
    "- classification:   \n",
    "$h : \\mathcal{R}^n \\rightarrow \\mathcal{Z} $   \n",
    "(e.g. for 3 categories $\\{0,1,2\\}$)\n",
    "\n",
    "- regression:   \n",
    "$h : \\mathcal{R}^n \\rightarrow \\mathcal{R} $ (regression can also produce $\\mathcal{R}^{n}$)  \n"
   ]
  },
  {
   "cell_type": "markdown",
   "metadata": {
    "collapsed": false
   },
   "source": [
    "# Data\n",
    "\n",
    "For the following, I will rely on the Palmer penguin dataset obtained from [this repo](https://github.com/allisonhorst/palmerpenguins). To quote the repo:\n",
    "\n",
    "> Data were collected and made available by [Dr. Kristen Gorman](https://www.uaf.edu/cfos/people/faculty/detail/kristen-gorman.php)\n",
    "> and the [Palmer Station, Antarctica LTER](https://pal.lternet.edu/), a member of the [Long Term Ecological Research Network](https://lternet.edu/).\n"
   ]
  },
  {
   "cell_type": "code",
   "execution_count": 2,
   "metadata": {
    "collapsed": false
   },
   "outputs": [
    {
     "name": "stdout",
     "output_type": "stream",
     "text": [
      "pandas version: 1.0.5\n"
     ]
    }
   ],
   "source": [
    "import pandas as pd\n",
    "print(\"pandas version:\", pd.__version__)\n"
   ]
  },
  {
   "cell_type": "code",
   "execution_count": 3,
   "metadata": {
    "collapsed": false
   },
   "outputs": [
    {
     "name": "stdout",
     "output_type": "stream",
     "text": [
      "  species     island  bill_length_mm  bill_depth_mm  flipper_length_mm  \\\n",
      "0  Adelie  Torgersen            39.1           18.7              181.0   \n",
      "1  Adelie  Torgersen            39.5           17.4              186.0   \n",
      "2  Adelie  Torgersen            40.3           18.0              195.0   \n",
      "3  Adelie  Torgersen             NaN            NaN                NaN   \n",
      "4  Adelie  Torgersen            36.7           19.3              193.0   \n",
      "\n",
      "   body_mass_g     sex  year  \n",
      "0       3750.0    male  2007  \n",
      "1       3800.0  female  2007  \n",
      "2       3250.0  female  2007  \n",
      "3          NaN     NaN  2007  \n",
      "4       3450.0  female  2007  \n",
      "       species island  bill_length_mm  bill_depth_mm  flipper_length_mm  \\\n",
      "339  Chinstrap  Dream            55.8           19.8              207.0   \n",
      "340  Chinstrap  Dream            43.5           18.1              202.0   \n",
      "341  Chinstrap  Dream            49.6           18.2              193.0   \n",
      "342  Chinstrap  Dream            50.8           19.0              210.0   \n",
      "343  Chinstrap  Dream            50.2           18.7              198.0   \n",
      "\n",
      "     body_mass_g     sex  year  \n",
      "339       4000.0    male  2009  \n",
      "340       3400.0  female  2009  \n",
      "341       3775.0    male  2009  \n",
      "342       4100.0    male  2009  \n",
      "343       3775.0  female  2009  \n"
     ]
    }
   ],
   "source": [
    "df = pd.read_csv(\"https://raw.githubusercontent.com/allisonhorst/palmerpenguins/master/inst/extdata/penguins.csv\")\n",
    "print(df.head())\n",
    "print(df.tail())"
   ]
  },
  {
   "cell_type": "code",
   "execution_count": null,
   "metadata": {
    "collapsed": false
   },
   "outputs": [],
   "source": []
  }
 ],
 "metadata": {
  "kernelspec": {
   "argv": [
    "python",
    "-m",
    "ipykernel_launcher",
    "-f",
    "{connection_file}"
   ],
   "display_name": "Python 3",
   "env": null,
   "interrupt_mode": "signal",
   "language": "python",
   "metadata": null,
   "name": "python3"
  },
  "name": "lesson.ipynb"
 },
 "nbformat": 4,
 "nbformat_minor": 4
}
